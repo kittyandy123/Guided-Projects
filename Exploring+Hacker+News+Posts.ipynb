{
 "cells": [
  {
   "cell_type": "markdown",
   "metadata": {
    "collapsed": true
   },
   "source": [
    "# Exploring Hacker News Posts\n",
    "\n",
    "In this project I will be analyzing a data set from the popular website [Hacker News](https://news.ycombinator.com/). This [data set](https://www.kaggle.com/hacker-news/hacker-news-posts) contains 20,000 rows of user submitted posts that contain at least one comment.\n",
    "\n",
    "The goal of this project is to determine which posts, between the subjects **Ask HN** or **Show HN**, receive more comments, and whether posts created during a certain time receive more comments.\n",
    "\n",
    "* The Ask HN subject allows posters to ask the community about something.\n",
    "\n",
    "* The Show HN subject allows posters to show the community something."
   ]
  },
  {
   "cell_type": "code",
   "execution_count": 8,
   "metadata": {
    "collapsed": false
   },
   "outputs": [
    {
     "name": "stdout",
     "output_type": "stream",
     "text": [
      "['id', 'title', 'url', 'num_points', 'num_comments', 'author', 'created_at'] \n",
      "\n",
      "[['12224879', 'Interactive Dynamic Video', 'http://www.interactivedynamicvideo.com/', '386', '52', 'ne0phyte', '8/4/2016 11:52'], ['10975351', 'How to Use Open Source and Shut the Fuck Up at the Same Time', 'http://hueniverse.com/2016/01/26/how-to-use-open-source-and-shut-the-fuck-up-at-the-same-time/', '39', '10', 'josep2', '1/26/2016 19:30'], ['11964716', \"Florida DJs May Face Felony for April Fools' Water Joke\", 'http://www.thewire.com/entertainment/2013/04/florida-djs-april-fools-water-joke/63798/', '2', '1', 'vezycash', '6/23/2016 22:20'], ['11919867', 'Technology ventures: From Idea to Enterprise', 'https://www.amazon.com/Technology-Ventures-Enterprise-Thomas-Byers/dp/0073523429', '3', '1', 'hswarna', '6/17/2016 0:01'], ['10301696', 'Note by Note: The Making of Steinway L1037 (2007)', 'http://www.nytimes.com/2007/11/07/movies/07stein.html?_r=0', '8', '2', 'walterbell', '9/30/2015 4:12']]\n"
     ]
    }
   ],
   "source": [
    "##Let's begin by opening and reading the data set\n",
    "from csv import reader\n",
    "opened = open(\"hacker_news.csv\")\n",
    "read = reader(opened)\n",
    "hacker = list(read)\n",
    "\n",
    "\n",
    "##The data of our set will be labeled hn\n",
    "hn = hacker[1:]\n",
    "##And the header will be labled hnh\n",
    "hnh = hacker[0]\n",
    "\n",
    "##Let's print the first five rows to ensure everything is correct\n",
    "print(hnh, \"\\n\")\n",
    "print(hn[:5])"
   ]
  },
  {
   "cell_type": "markdown",
   "metadata": {},
   "source": [
    "Now that we have our data, let's start cleaning it.\n",
    "\n",
    "## Data Cleaning: Ask HN and Show HN\n",
    "\n",
    "We are only interested in the data that use the subjects Ask HN and Show HN, so we'll create and fill two new lists, respectively, with this pertinent data."
   ]
  },
  {
   "cell_type": "code",
   "execution_count": 16,
   "metadata": {
    "collapsed": false
   },
   "outputs": [
    {
     "name": "stdout",
     "output_type": "stream",
     "text": [
      "Ask HN Posts : 1744 \n",
      "Show HN Posts : 1162 \n",
      "Other Posts : 17194\n"
     ]
    }
   ],
   "source": [
    "##We'll create two lists for the pertinent data, \n",
    "##and another for the rest of the data.\n",
    "ask_posts = []\n",
    "show_posts = []\n",
    "other_posts = []\n",
    "\n",
    "##Now we'll loop through our data set and fill each of our new \n",
    "##lists with it's respective data.\n",
    "for row in hn:\n",
    "    title = row[1].lower()\n",
    "    if title.startswith(\"ask hn\") == True:\n",
    "        ask_posts.append(row)\n",
    "    elif title.startswith(\"show hn\") == True:\n",
    "        show_posts.append(row)\n",
    "    else:\n",
    "        other_posts.append(row)\n",
    "        \n",
    "##Let's see how much data we are left with in each list\n",
    "print(\"Ask HN Posts :\", len(ask_posts), \"\\n\"\n",
    "      \"Show HN Posts :\", len(show_posts), \"\\n\"\n",
    "      \"Other Posts :\", len(other_posts))\n"
   ]
  },
  {
   "cell_type": "markdown",
   "metadata": {},
   "source": [
    "We are left with 2906 posts to work with. Our data is all in a clean, readable format for our first goal of determining which subject receives more comments. So let's begin.\n",
    "\n",
    "## Analysis: Ask HN and Show HN Average Comments"
   ]
  },
  {
   "cell_type": "code",
   "execution_count": 25,
   "metadata": {
    "collapsed": false
   },
   "outputs": [
    {
     "name": "stdout",
     "output_type": "stream",
     "text": [
      "Total Ask HN Comments : 24483 \n",
      "Average Ask HN Comments : 14 \n",
      " \n",
      "Total Show HN Comments : 11988 \n",
      "Average Show HN Comments : 10\n"
     ]
    }
   ],
   "source": [
    "##Let's begin by creating our variables\n",
    "total_ask_comments = 0\n",
    "total_show_comments = 0\n",
    "\n",
    "avg_ask_comments = 0\n",
    "avg_show_comments = 0\n",
    "\n",
    "total_ask = 0\n",
    "total_show = 0\n",
    "\n",
    "##Now let's loop through our respective subjects to determine\n",
    "##the number of comments in each subject, as well as the average\n",
    "for row in ask_posts:\n",
    "    comments = int(row[4])\n",
    "    total_ask_comments += comments\n",
    "    total_ask += 1\n",
    "    avg_ask_comments = total_ask_comments // total_ask\n",
    "    \n",
    "for row in show_posts:\n",
    "    comments = int(row[4])\n",
    "    total_show_comments += comments\n",
    "    total_show += 1\n",
    "    avg_show_comments = total_show_comments // total_show\n",
    "    \n",
    "##Now that we have our relevant information, let's print it out and view it\n",
    "print(\"Total Ask HN Comments :\", total_ask_comments, \"\\n\"\n",
    "      \"Average Ask HN Comments :\", avg_ask_comments, \"\\n\", \"\\n\"\n",
    "     \n",
    "      \"Total Show HN Comments :\", total_show_comments, \"\\n\"\n",
    "      \"Average Show HN Comments :\", avg_show_comments)"
   ]
  },
  {
   "cell_type": "markdown",
   "metadata": {},
   "source": [
    "It appears that Ask HN posts receieve more comments and discussion compared to Show HN posts. While the difference in the number of posts between the two subjects is only 582 posts, Ask HN has more than double the number of comments.\n",
    "\n",
    "With Ask HN post comments average only being 4 more than the average of Show HN comments, it pushes me to believe that there are a number of very popular posts in the Ask HN subject that are outliers compared to the rest.\n",
    "\n",
    "## Data Cleaning: Time of Day\n",
    "\n",
    "Now we can begin our second goal of finding the most popular time of day for posts receiving comments. With our Ask HN subject receiving more than double the number of comments compared to Show HN, we'll base our analysis around this data.\n",
    "\n",
    "We'll first need to put all of the data into a readable and standard form, we'll use dictionaries. We only want the hour of day that posts and comments were made, so we can create a new list with only this information."
   ]
  },
  {
   "cell_type": "code",
   "execution_count": 88,
   "metadata": {
    "collapsed": false
   },
   "outputs": [
    {
     "name": "stdout",
     "output_type": "stream",
     "text": [
      "------------------\n",
      "||Posts by Hour ||\n",
      "------------------\n",
      " {'06:00': 44, '13:00': 85, '18:00': 109, '22:00': 71, '05:00': 46, '12:00': 73, '08:00': 48, '15:00': 116, '00:00': 55, '23:00': 68, '04:00': 47, '10:00': 59, '02:00': 58, '17:00': 100, '16:00': 108, '01:00': 60, '07:00': 34, '09:00': 45, '14:00': 107, '03:00': 54, '21:00': 109, '19:00': 110, '20:00': 80, '11:00': 58} \n",
      "\n",
      "---------------------\n",
      "||Comments by Hour ||\n",
      "---------------------\n",
      " {'06:00': 397, '13:00': 1253, '18:00': 1439, '22:00': 479, '05:00': 464, '12:00': 687, '08:00': 492, '15:00': 4477, '00:00': 447, '23:00': 543, '04:00': 337, '10:00': 793, '02:00': 1381, '17:00': 1146, '16:00': 1814, '01:00': 683, '07:00': 267, '09:00': 251, '14:00': 1416, '03:00': 421, '21:00': 1745, '19:00': 1188, '20:00': 1722, '11:00': 641}\n"
     ]
    }
   ],
   "source": [
    "##We'll import the datetime module, which contains many useful classes \n",
    "##and methods for managing dates and times. We'll give the module an \n",
    "##alias of dt, to help with code readiability\n",
    "import datetime as dt\n",
    "\n",
    "##We'll create a list of lists that contains the pertinent information\n",
    "##from our posts. The comments and the date created\n",
    "result_list = []\n",
    "\n",
    "##Then we'll create a loop to grab this information\n",
    "for row in ask_posts:\n",
    "    created_at = row[6]\n",
    "    comments = int(row[4])\n",
    "    result_list.append([created_at, comments])\n",
    "    \n",
    "##Now we'll populate two dictionaries with this information.\n",
    "##One dictionary will contain the number of posts made for\n",
    "##a certain hour of the day, while the other will contain the\n",
    "##number of comments for a certain hour of the day.\n",
    "counts_by_hour = {}\n",
    "comments_by_hour = {}\n",
    "\n",
    "for row in result_list:\n",
    "    comments = row[1]\n",
    "    dates = dt.datetime.strptime(row[0], '%m/%d/%Y %H:%M')\n",
    "    hour = dates.strftime(\"%H\")\n",
    "    hour = hour + \":00\"\n",
    "    \n",
    "    if hour not in counts_by_hour:\n",
    "        counts_by_hour[hour] = 1\n",
    "        comments_by_hour[hour] = comments\n",
    "        \n",
    "    elif hour in counts_by_hour:\n",
    "        counts_by_hour[hour] += 1\n",
    "        comments_by_hour[hour] += comments\n",
    "        \n",
    "##Let's view our dictionaries\n",
    "print(\"------------------\" \"\\n\"\n",
    "      \"||Posts by Hour ||\" \"\\n\"\n",
    "      \"------------------\" \"\\n\", \n",
    "       counts_by_hour, \"\\n\" \"\\n\"\n",
    "      \"---------------------\" \"\\n\"\n",
    "      \"||Comments by Hour ||\" \"\\n\"\n",
    "      \"---------------------\" \"\\n\", \n",
    "       comments_by_hour)"
   ]
  },
  {
   "cell_type": "markdown",
   "metadata": {},
   "source": [
    "## Analysis: Average Posts per Hour of Day\n",
    "\n",
    "Now that we have our dictionaries, we can use them to find the average number of posts received during each hour of the day."
   ]
  },
  {
   "cell_type": "code",
   "execution_count": 80,
   "metadata": {
    "collapsed": false
   },
   "outputs": [
    {
     "name": "stdout",
     "output_type": "stream",
     "text": [
      "---------------------------------\n",
      "||Average Posts to Time of Day ||\n",
      "---------------------------------\n",
      " [['06:00', 9], ['13:00', 14], ['18:00', 13], ['22:00', 6], ['05:00', 10], ['12:00', 9], ['08:00', 10], ['15:00', 38], ['00:00', 8], ['23:00', 7], ['04:00', 7], ['10:00', 13], ['02:00', 23], ['17:00', 11], ['16:00', 16], ['01:00', 11], ['07:00', 7], ['09:00', 5], ['14:00', 13], ['03:00', 7], ['21:00', 16], ['19:00', 10], ['20:00', 21], ['11:00', 11]]\n"
     ]
    }
   ],
   "source": [
    "##Let's create a list that'll contain our averages. The first column\n",
    "##will hold the time of day, and the second will contain the average\n",
    "avg_by_hour = []\n",
    "\n",
    "for key in counts_by_hour:\n",
    "    average = comments_by_hour[key] // counts_by_hour[key]\n",
    "    avg_by_hour.append([key, average])\n",
    "    \n",
    "##And let's print our results\n",
    "print(\"---------------------------------\" \"\\n\"\n",
    "      \"||Average Posts to Time of Day ||\" \"\\n\" \n",
    "      \"---------------------------------\" \"\\n\", avg_by_hour)"
   ]
  },
  {
   "cell_type": "markdown",
   "metadata": {},
   "source": [
    "Now we have our results! This is a little difficult to read, however, so let's make it a little nicer."
   ]
  },
  {
   "cell_type": "code",
   "execution_count": 98,
   "metadata": {
    "collapsed": false
   },
   "outputs": [
    {
     "name": "stdout",
     "output_type": "stream",
     "text": [
      "-------------------------------------------\n",
      "||Top 5 Best Hours for Ask Posts Comments||\n",
      "-------------------------------------------\n",
      "15:00: 38 average comments per post\n",
      "02:00: 23 average comments per post\n",
      "20:00: 21 average comments per post\n",
      "21:00: 16 average comments per post\n",
      "16:00: 16 average comments per post\n",
      "--------------------------------------------\n",
      "||Top 3 Worst Hours for Ask Posts Comments||\n",
      "--------------------------------------------\n",
      "09:00: 5 average comments per post\n",
      "22:00: 6 average comments per post\n",
      "03:00: 7 average comments per post\n"
     ]
    }
   ],
   "source": [
    "##Let's swap the columns so that we can sort our data from most\n",
    "##posts to least posts.\n",
    "swap_avg_by_hour = []\n",
    "\n",
    "for row in avg_by_hour:\n",
    "    hour = row[0]\n",
    "    avg = row[1]\n",
    "    swap_avg_by_hour.append([avg, hour])\n",
    "\n",
    "sorted_swap = sorted(swap_avg_by_hour, reverse=True)\n",
    "back_swap = sorted(swap_avg_by_hour, reverse=False)\n",
    "\n",
    "##Then let's print our results\n",
    "print(\"-------------------------------------------\" \"\\n\"\n",
    "      \"||Top 5 Best Hours for Ask Posts Comments||\" \"\\n\"\n",
    "      \"-------------------------------------------\")\n",
    "\n",
    "for avg in sorted_swap[:5]:\n",
    "    format_str = \"{0}: {1} average comments per post\"\n",
    "    print(format_str.format(avg[1], avg[0]))\n",
    "    \n",
    "    \n",
    "print(\"--------------------------------------------\" \"\\n\"\n",
    "      \"||Top 3 Worst Hours for Ask Posts Comments||\" \"\\n\"\n",
    "      \"--------------------------------------------\")\n",
    "\n",
    "for avg in back_swap[:3]:\n",
    "    format_str = \"{0}: {1} average comments per post\"\n",
    "    print(format_str.format(avg[1], avg[0]))"
   ]
  },
  {
   "cell_type": "markdown",
   "metadata": {},
   "source": [
    "It appears that 3PM Eastern Time is when comments are most likely, with 2AM and 8PM in second and third place. The time with the least chance of comments is at 9AM. For the highest chance to receieve comments on your ask HM post, you should post at 3PM ET, and avoid posting at 9AM.\n",
    "\n",
    "## Conclusion\n",
    "\n",
    "In conclusion, we have successfully answered both of our questions. Ask HM posts receive the most comments from the community, with over double the number of comments compared to Show HM posts. To receive the most number of comments on an Ask HM post, you should post at 3PM ET."
   ]
  }
 ],
 "metadata": {
  "kernelspec": {
   "display_name": "Python 3",
   "language": "python",
   "name": "python3"
  },
  "language_info": {
   "codemirror_mode": {
    "name": "ipython",
    "version": 3
   },
   "file_extension": ".py",
   "mimetype": "text/x-python",
   "name": "python",
   "nbconvert_exporter": "python",
   "pygments_lexer": "ipython3",
   "version": "3.4.3"
  }
 },
 "nbformat": 4,
 "nbformat_minor": 2
}
