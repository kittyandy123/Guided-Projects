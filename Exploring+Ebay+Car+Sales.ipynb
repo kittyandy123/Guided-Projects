{
 "cells": [
  {
   "cell_type": "markdown",
   "metadata": {},
   "source": [
    "# Exploring Ebay Car Sales Data\n",
    "\n",
    "In this project we'll be exploring some car sale [data](https://data.world/data-society/used-cars-data) from the German eBay website. The dataset we'll use in this project is a sample from the original dataset that contains 50,000 data points and has been dirtied to simulate a scraped dataset.\n",
    "\n",
    "Our goal for this project is to clean all the bad data, and then do some analysis on some of the columns."
   ]
  },
  {
   "cell_type": "code",
   "execution_count": 1,
   "metadata": {},
   "outputs": [],
   "source": [
    "# As this dataset contains a data frame structure, we'll need to import pandas and NumPy\n",
    "import numpy as np\n",
    "import pandas as pd\n",
    "\n",
    "# This dataframe is encoded with Latin-1, so we'll need to specify this\n",
    "autos = pd.read_csv(r'C:\\Users\\Green Miracle\\csv files\\autos.csv', encoding='latin1')"
   ]
  },
  {
   "cell_type": "markdown",
   "metadata": {},
   "source": [
    "Let's first explore our data and get an idea of what we'll be working with. We'll take a look at the first first rows, as we'll as some useful info on each column."
   ]
  },
  {
   "cell_type": "code",
   "execution_count": 2,
   "metadata": {},
   "outputs": [
    {
     "data": {
      "text/html": [
       "<div>\n",
       "<style scoped>\n",
       "    .dataframe tbody tr th:only-of-type {\n",
       "        vertical-align: middle;\n",
       "    }\n",
       "\n",
       "    .dataframe tbody tr th {\n",
       "        vertical-align: top;\n",
       "    }\n",
       "\n",
       "    .dataframe thead th {\n",
       "        text-align: right;\n",
       "    }\n",
       "</style>\n",
       "<table border=\"1\" class=\"dataframe\">\n",
       "  <thead>\n",
       "    <tr style=\"text-align: right;\">\n",
       "      <th></th>\n",
       "      <th>dateCrawled</th>\n",
       "      <th>name</th>\n",
       "      <th>seller</th>\n",
       "      <th>offerType</th>\n",
       "      <th>price</th>\n",
       "      <th>abtest</th>\n",
       "      <th>vehicleType</th>\n",
       "      <th>yearOfRegistration</th>\n",
       "      <th>gearbox</th>\n",
       "      <th>powerPS</th>\n",
       "      <th>model</th>\n",
       "      <th>odometer</th>\n",
       "      <th>monthOfRegistration</th>\n",
       "      <th>fuelType</th>\n",
       "      <th>brand</th>\n",
       "      <th>notRepairedDamage</th>\n",
       "      <th>dateCreated</th>\n",
       "      <th>nrOfPictures</th>\n",
       "      <th>postalCode</th>\n",
       "      <th>lastSeen</th>\n",
       "    </tr>\n",
       "  </thead>\n",
       "  <tbody>\n",
       "    <tr>\n",
       "      <th>0</th>\n",
       "      <td>2016-03-26 17:47:46</td>\n",
       "      <td>Peugeot_807_160_NAVTECH_ON_BOARD</td>\n",
       "      <td>privat</td>\n",
       "      <td>Angebot</td>\n",
       "      <td>$5,000</td>\n",
       "      <td>control</td>\n",
       "      <td>bus</td>\n",
       "      <td>2004</td>\n",
       "      <td>manuell</td>\n",
       "      <td>158</td>\n",
       "      <td>andere</td>\n",
       "      <td>150,000km</td>\n",
       "      <td>3</td>\n",
       "      <td>lpg</td>\n",
       "      <td>peugeot</td>\n",
       "      <td>nein</td>\n",
       "      <td>2016-03-26 00:00:00</td>\n",
       "      <td>0</td>\n",
       "      <td>79588</td>\n",
       "      <td>2016-04-06 06:45:54</td>\n",
       "    </tr>\n",
       "    <tr>\n",
       "      <th>1</th>\n",
       "      <td>2016-04-04 13:38:56</td>\n",
       "      <td>BMW_740i_4_4_Liter_HAMANN_UMBAU_Mega_Optik</td>\n",
       "      <td>privat</td>\n",
       "      <td>Angebot</td>\n",
       "      <td>$8,500</td>\n",
       "      <td>control</td>\n",
       "      <td>limousine</td>\n",
       "      <td>1997</td>\n",
       "      <td>automatik</td>\n",
       "      <td>286</td>\n",
       "      <td>7er</td>\n",
       "      <td>150,000km</td>\n",
       "      <td>6</td>\n",
       "      <td>benzin</td>\n",
       "      <td>bmw</td>\n",
       "      <td>nein</td>\n",
       "      <td>2016-04-04 00:00:00</td>\n",
       "      <td>0</td>\n",
       "      <td>71034</td>\n",
       "      <td>2016-04-06 14:45:08</td>\n",
       "    </tr>\n",
       "    <tr>\n",
       "      <th>2</th>\n",
       "      <td>2016-03-26 18:57:24</td>\n",
       "      <td>Volkswagen_Golf_1.6_United</td>\n",
       "      <td>privat</td>\n",
       "      <td>Angebot</td>\n",
       "      <td>$8,990</td>\n",
       "      <td>test</td>\n",
       "      <td>limousine</td>\n",
       "      <td>2009</td>\n",
       "      <td>manuell</td>\n",
       "      <td>102</td>\n",
       "      <td>golf</td>\n",
       "      <td>70,000km</td>\n",
       "      <td>7</td>\n",
       "      <td>benzin</td>\n",
       "      <td>volkswagen</td>\n",
       "      <td>nein</td>\n",
       "      <td>2016-03-26 00:00:00</td>\n",
       "      <td>0</td>\n",
       "      <td>35394</td>\n",
       "      <td>2016-04-06 20:15:37</td>\n",
       "    </tr>\n",
       "    <tr>\n",
       "      <th>3</th>\n",
       "      <td>2016-03-12 16:58:10</td>\n",
       "      <td>Smart_smart_fortwo_coupe_softouch/F1/Klima/Pan...</td>\n",
       "      <td>privat</td>\n",
       "      <td>Angebot</td>\n",
       "      <td>$4,350</td>\n",
       "      <td>control</td>\n",
       "      <td>kleinwagen</td>\n",
       "      <td>2007</td>\n",
       "      <td>automatik</td>\n",
       "      <td>71</td>\n",
       "      <td>fortwo</td>\n",
       "      <td>70,000km</td>\n",
       "      <td>6</td>\n",
       "      <td>benzin</td>\n",
       "      <td>smart</td>\n",
       "      <td>nein</td>\n",
       "      <td>2016-03-12 00:00:00</td>\n",
       "      <td>0</td>\n",
       "      <td>33729</td>\n",
       "      <td>2016-03-15 03:16:28</td>\n",
       "    </tr>\n",
       "    <tr>\n",
       "      <th>4</th>\n",
       "      <td>2016-04-01 14:38:50</td>\n",
       "      <td>Ford_Focus_1_6_Benzin_TÜV_neu_ist_sehr_gepfleg...</td>\n",
       "      <td>privat</td>\n",
       "      <td>Angebot</td>\n",
       "      <td>$1,350</td>\n",
       "      <td>test</td>\n",
       "      <td>kombi</td>\n",
       "      <td>2003</td>\n",
       "      <td>manuell</td>\n",
       "      <td>0</td>\n",
       "      <td>focus</td>\n",
       "      <td>150,000km</td>\n",
       "      <td>7</td>\n",
       "      <td>benzin</td>\n",
       "      <td>ford</td>\n",
       "      <td>nein</td>\n",
       "      <td>2016-04-01 00:00:00</td>\n",
       "      <td>0</td>\n",
       "      <td>39218</td>\n",
       "      <td>2016-04-01 14:38:50</td>\n",
       "    </tr>\n",
       "  </tbody>\n",
       "</table>\n",
       "</div>"
      ],
      "text/plain": [
       "           dateCrawled                                               name  \\\n",
       "0  2016-03-26 17:47:46                   Peugeot_807_160_NAVTECH_ON_BOARD   \n",
       "1  2016-04-04 13:38:56         BMW_740i_4_4_Liter_HAMANN_UMBAU_Mega_Optik   \n",
       "2  2016-03-26 18:57:24                         Volkswagen_Golf_1.6_United   \n",
       "3  2016-03-12 16:58:10  Smart_smart_fortwo_coupe_softouch/F1/Klima/Pan...   \n",
       "4  2016-04-01 14:38:50  Ford_Focus_1_6_Benzin_TÜV_neu_ist_sehr_gepfleg...   \n",
       "\n",
       "   seller offerType   price   abtest vehicleType  yearOfRegistration  \\\n",
       "0  privat   Angebot  $5,000  control         bus                2004   \n",
       "1  privat   Angebot  $8,500  control   limousine                1997   \n",
       "2  privat   Angebot  $8,990     test   limousine                2009   \n",
       "3  privat   Angebot  $4,350  control  kleinwagen                2007   \n",
       "4  privat   Angebot  $1,350     test       kombi                2003   \n",
       "\n",
       "     gearbox  powerPS   model   odometer  monthOfRegistration fuelType  \\\n",
       "0    manuell      158  andere  150,000km                    3      lpg   \n",
       "1  automatik      286     7er  150,000km                    6   benzin   \n",
       "2    manuell      102    golf   70,000km                    7   benzin   \n",
       "3  automatik       71  fortwo   70,000km                    6   benzin   \n",
       "4    manuell        0   focus  150,000km                    7   benzin   \n",
       "\n",
       "        brand notRepairedDamage          dateCreated  nrOfPictures  \\\n",
       "0     peugeot              nein  2016-03-26 00:00:00             0   \n",
       "1         bmw              nein  2016-04-04 00:00:00             0   \n",
       "2  volkswagen              nein  2016-03-26 00:00:00             0   \n",
       "3       smart              nein  2016-03-12 00:00:00             0   \n",
       "4        ford              nein  2016-04-01 00:00:00             0   \n",
       "\n",
       "   postalCode             lastSeen  \n",
       "0       79588  2016-04-06 06:45:54  \n",
       "1       71034  2016-04-06 14:45:08  \n",
       "2       35394  2016-04-06 20:15:37  \n",
       "3       33729  2016-03-15 03:16:28  \n",
       "4       39218  2016-04-01 14:38:50  "
      ]
     },
     "metadata": {},
     "output_type": "display_data"
    },
    {
     "name": "stdout",
     "output_type": "stream",
     "text": [
      "<class 'pandas.core.frame.DataFrame'>\n",
      "RangeIndex: 50000 entries, 0 to 49999\n",
      "Data columns (total 20 columns):\n",
      " #   Column               Non-Null Count  Dtype \n",
      "---  ------               --------------  ----- \n",
      " 0   dateCrawled          50000 non-null  object\n",
      " 1   name                 50000 non-null  object\n",
      " 2   seller               50000 non-null  object\n",
      " 3   offerType            50000 non-null  object\n",
      " 4   price                50000 non-null  object\n",
      " 5   abtest               50000 non-null  object\n",
      " 6   vehicleType          44905 non-null  object\n",
      " 7   yearOfRegistration   50000 non-null  int64 \n",
      " 8   gearbox              47320 non-null  object\n",
      " 9   powerPS              50000 non-null  int64 \n",
      " 10  model                47242 non-null  object\n",
      " 11  odometer             50000 non-null  object\n",
      " 12  monthOfRegistration  50000 non-null  int64 \n",
      " 13  fuelType             45518 non-null  object\n",
      " 14  brand                50000 non-null  object\n",
      " 15  notRepairedDamage    40171 non-null  object\n",
      " 16  dateCreated          50000 non-null  object\n",
      " 17  nrOfPictures         50000 non-null  int64 \n",
      " 18  postalCode           50000 non-null  int64 \n",
      " 19  lastSeen             50000 non-null  object\n",
      "dtypes: int64(5), object(15)\n",
      "memory usage: 7.6+ MB\n"
     ]
    }
   ],
   "source": [
    "# The display() function will let us visualize the dataframe\n",
    "display(autos.head(5))\n",
    "\n",
    "# Using the info method, we can view useful column information\n",
    "autos.info()"
   ]
  },
  {
   "cell_type": "markdown",
   "metadata": {},
   "source": [
    "From this information, I can gather a few key points.\n",
    "* Written in German\n",
    "* Columns contain CamelCase\n",
    "* The odometer and price column seem to contain mostly numeric data, but are an object dtype\n",
    "* 5 columns contain null values\n",
    "\n",
    "## Data Cleaning: Column Names\n",
    "\n",
    "To begin, let's first change the CamelCase columns into the preferred snake_case, and make some of the columns more descriptive, which will make our data much easier to handle."
   ]
  },
  {
   "cell_type": "code",
   "execution_count": 3,
   "metadata": {},
   "outputs": [
    {
     "name": "stdout",
     "output_type": "stream",
     "text": [
      "Index(['date_crawled', 'name', 'seller', 'offer_type', 'price', 'abtest',\n",
      "       'vehicle_type', 'registration_year', 'gearbox', 'power_ps', 'model',\n",
      "       'odometer', 'registration_month', 'fuel_type', 'brand',\n",
      "       'unrepaired_damage', 'ad_created', 'nr_of_pictures', 'postal_code',\n",
      "       'last_seen'],\n",
      "      dtype='object')\n"
     ]
    }
   ],
   "source": [
    "# Let's create a new list to hold all of our updated names\n",
    "new_cols = []\n",
    "\n",
    "# To make converting CamelCase to snake_case easier, I'll make a simple function\n",
    "def camel_to_snake(label):\n",
    "    fixed = \"\"\n",
    "    # The flag is so that columns with uppercase letters side-by-side don't get an unnecessary underscore\n",
    "    flag = True\n",
    "    \n",
    "    for l in label:\n",
    "        # If the letter is uppercase, and the flag is True, then add an underscore\n",
    "        # before the letter and make the flag False\n",
    "        if l.isupper() and flag == True:\n",
    "            fixed += \"_\"\n",
    "            fixed += l\n",
    "            flag = False\n",
    "        # Else if the letter is lowercase, add the letter and make the flag True\n",
    "        else:\n",
    "            fixed += l\n",
    "            flag = True\n",
    "            \n",
    "    return fixed\n",
    "\n",
    "# To populate our new list, we'll loop through every column label\n",
    "for l in autos.columns:\n",
    "    # We'll manually change a few of the labels to make them easier to read\n",
    "    l = l.replace('yearOfRegistration', 'registration_year')\n",
    "    l = l.replace('monthOfRegistration', 'registration_month')\n",
    "    l = l.replace('notRepairedDamage', 'unrepaired_damage')\n",
    "    l = l.replace('dateCreated', 'ad_created')\n",
    "    # Then use our new function and make everything lowercase\n",
    "    l = camel_to_snake(l)\n",
    "    l = l.lower()\n",
    "    # And finally, add each label to our list\n",
    "    new_cols.append(l)\n",
    "    \n",
    "# And now use the new labels in our list in place of each column's current label\n",
    "autos.columns = new_cols\n",
    "\n",
    "# Let's view our results\n",
    "print(autos.columns)"
   ]
  },
  {
   "cell_type": "markdown",
   "metadata": {},
   "source": [
    "Now the columns are uniform and much easier to read. With this, we'll be able to refer to columns in our code much easier without worrying about which letters are uppercase and which are not.\n",
    "\n",
    "## Column Overview\n",
    "\n",
    "Let's take a closer look at the information in all the columns. This will give us an idea of what columns need to be looked at, removed, and changed."
   ]
  },
  {
   "cell_type": "code",
   "execution_count": 4,
   "metadata": {
    "scrolled": true
   },
   "outputs": [
    {
     "data": {
      "text/html": [
       "<div>\n",
       "<style scoped>\n",
       "    .dataframe tbody tr th:only-of-type {\n",
       "        vertical-align: middle;\n",
       "    }\n",
       "\n",
       "    .dataframe tbody tr th {\n",
       "        vertical-align: top;\n",
       "    }\n",
       "\n",
       "    .dataframe thead th {\n",
       "        text-align: right;\n",
       "    }\n",
       "</style>\n",
       "<table border=\"1\" class=\"dataframe\">\n",
       "  <thead>\n",
       "    <tr style=\"text-align: right;\">\n",
       "      <th></th>\n",
       "      <th>date_crawled</th>\n",
       "      <th>name</th>\n",
       "      <th>seller</th>\n",
       "      <th>offer_type</th>\n",
       "      <th>price</th>\n",
       "      <th>abtest</th>\n",
       "      <th>vehicle_type</th>\n",
       "      <th>registration_year</th>\n",
       "      <th>gearbox</th>\n",
       "      <th>power_ps</th>\n",
       "      <th>model</th>\n",
       "      <th>odometer</th>\n",
       "      <th>registration_month</th>\n",
       "      <th>fuel_type</th>\n",
       "      <th>brand</th>\n",
       "      <th>unrepaired_damage</th>\n",
       "      <th>ad_created</th>\n",
       "      <th>nr_of_pictures</th>\n",
       "      <th>postal_code</th>\n",
       "      <th>last_seen</th>\n",
       "    </tr>\n",
       "  </thead>\n",
       "  <tbody>\n",
       "    <tr>\n",
       "      <th>count</th>\n",
       "      <td>50000</td>\n",
       "      <td>50000</td>\n",
       "      <td>50000</td>\n",
       "      <td>50000</td>\n",
       "      <td>50000</td>\n",
       "      <td>50000</td>\n",
       "      <td>44905</td>\n",
       "      <td>50000.000000</td>\n",
       "      <td>47320</td>\n",
       "      <td>50000.000000</td>\n",
       "      <td>47242</td>\n",
       "      <td>50000</td>\n",
       "      <td>50000.000000</td>\n",
       "      <td>45518</td>\n",
       "      <td>50000</td>\n",
       "      <td>40171</td>\n",
       "      <td>50000</td>\n",
       "      <td>50000.0</td>\n",
       "      <td>50000.000000</td>\n",
       "      <td>50000</td>\n",
       "    </tr>\n",
       "    <tr>\n",
       "      <th>unique</th>\n",
       "      <td>48213</td>\n",
       "      <td>38754</td>\n",
       "      <td>2</td>\n",
       "      <td>2</td>\n",
       "      <td>2357</td>\n",
       "      <td>2</td>\n",
       "      <td>8</td>\n",
       "      <td>NaN</td>\n",
       "      <td>2</td>\n",
       "      <td>NaN</td>\n",
       "      <td>245</td>\n",
       "      <td>13</td>\n",
       "      <td>NaN</td>\n",
       "      <td>7</td>\n",
       "      <td>40</td>\n",
       "      <td>2</td>\n",
       "      <td>76</td>\n",
       "      <td>NaN</td>\n",
       "      <td>NaN</td>\n",
       "      <td>39481</td>\n",
       "    </tr>\n",
       "    <tr>\n",
       "      <th>top</th>\n",
       "      <td>2016-03-23 19:38:20</td>\n",
       "      <td>Ford_Fiesta</td>\n",
       "      <td>privat</td>\n",
       "      <td>Angebot</td>\n",
       "      <td>$0</td>\n",
       "      <td>test</td>\n",
       "      <td>limousine</td>\n",
       "      <td>NaN</td>\n",
       "      <td>manuell</td>\n",
       "      <td>NaN</td>\n",
       "      <td>golf</td>\n",
       "      <td>150,000km</td>\n",
       "      <td>NaN</td>\n",
       "      <td>benzin</td>\n",
       "      <td>volkswagen</td>\n",
       "      <td>nein</td>\n",
       "      <td>2016-04-03 00:00:00</td>\n",
       "      <td>NaN</td>\n",
       "      <td>NaN</td>\n",
       "      <td>2016-04-07 06:17:27</td>\n",
       "    </tr>\n",
       "    <tr>\n",
       "      <th>freq</th>\n",
       "      <td>3</td>\n",
       "      <td>78</td>\n",
       "      <td>49999</td>\n",
       "      <td>49999</td>\n",
       "      <td>1421</td>\n",
       "      <td>25756</td>\n",
       "      <td>12859</td>\n",
       "      <td>NaN</td>\n",
       "      <td>36993</td>\n",
       "      <td>NaN</td>\n",
       "      <td>4024</td>\n",
       "      <td>32424</td>\n",
       "      <td>NaN</td>\n",
       "      <td>30107</td>\n",
       "      <td>10687</td>\n",
       "      <td>35232</td>\n",
       "      <td>1946</td>\n",
       "      <td>NaN</td>\n",
       "      <td>NaN</td>\n",
       "      <td>8</td>\n",
       "    </tr>\n",
       "    <tr>\n",
       "      <th>mean</th>\n",
       "      <td>NaN</td>\n",
       "      <td>NaN</td>\n",
       "      <td>NaN</td>\n",
       "      <td>NaN</td>\n",
       "      <td>NaN</td>\n",
       "      <td>NaN</td>\n",
       "      <td>NaN</td>\n",
       "      <td>2005.073280</td>\n",
       "      <td>NaN</td>\n",
       "      <td>116.355920</td>\n",
       "      <td>NaN</td>\n",
       "      <td>NaN</td>\n",
       "      <td>5.723360</td>\n",
       "      <td>NaN</td>\n",
       "      <td>NaN</td>\n",
       "      <td>NaN</td>\n",
       "      <td>NaN</td>\n",
       "      <td>0.0</td>\n",
       "      <td>50813.627300</td>\n",
       "      <td>NaN</td>\n",
       "    </tr>\n",
       "    <tr>\n",
       "      <th>std</th>\n",
       "      <td>NaN</td>\n",
       "      <td>NaN</td>\n",
       "      <td>NaN</td>\n",
       "      <td>NaN</td>\n",
       "      <td>NaN</td>\n",
       "      <td>NaN</td>\n",
       "      <td>NaN</td>\n",
       "      <td>105.712813</td>\n",
       "      <td>NaN</td>\n",
       "      <td>209.216627</td>\n",
       "      <td>NaN</td>\n",
       "      <td>NaN</td>\n",
       "      <td>3.711984</td>\n",
       "      <td>NaN</td>\n",
       "      <td>NaN</td>\n",
       "      <td>NaN</td>\n",
       "      <td>NaN</td>\n",
       "      <td>0.0</td>\n",
       "      <td>25779.747957</td>\n",
       "      <td>NaN</td>\n",
       "    </tr>\n",
       "    <tr>\n",
       "      <th>min</th>\n",
       "      <td>NaN</td>\n",
       "      <td>NaN</td>\n",
       "      <td>NaN</td>\n",
       "      <td>NaN</td>\n",
       "      <td>NaN</td>\n",
       "      <td>NaN</td>\n",
       "      <td>NaN</td>\n",
       "      <td>1000.000000</td>\n",
       "      <td>NaN</td>\n",
       "      <td>0.000000</td>\n",
       "      <td>NaN</td>\n",
       "      <td>NaN</td>\n",
       "      <td>0.000000</td>\n",
       "      <td>NaN</td>\n",
       "      <td>NaN</td>\n",
       "      <td>NaN</td>\n",
       "      <td>NaN</td>\n",
       "      <td>0.0</td>\n",
       "      <td>1067.000000</td>\n",
       "      <td>NaN</td>\n",
       "    </tr>\n",
       "    <tr>\n",
       "      <th>25%</th>\n",
       "      <td>NaN</td>\n",
       "      <td>NaN</td>\n",
       "      <td>NaN</td>\n",
       "      <td>NaN</td>\n",
       "      <td>NaN</td>\n",
       "      <td>NaN</td>\n",
       "      <td>NaN</td>\n",
       "      <td>1999.000000</td>\n",
       "      <td>NaN</td>\n",
       "      <td>70.000000</td>\n",
       "      <td>NaN</td>\n",
       "      <td>NaN</td>\n",
       "      <td>3.000000</td>\n",
       "      <td>NaN</td>\n",
       "      <td>NaN</td>\n",
       "      <td>NaN</td>\n",
       "      <td>NaN</td>\n",
       "      <td>0.0</td>\n",
       "      <td>30451.000000</td>\n",
       "      <td>NaN</td>\n",
       "    </tr>\n",
       "    <tr>\n",
       "      <th>50%</th>\n",
       "      <td>NaN</td>\n",
       "      <td>NaN</td>\n",
       "      <td>NaN</td>\n",
       "      <td>NaN</td>\n",
       "      <td>NaN</td>\n",
       "      <td>NaN</td>\n",
       "      <td>NaN</td>\n",
       "      <td>2003.000000</td>\n",
       "      <td>NaN</td>\n",
       "      <td>105.000000</td>\n",
       "      <td>NaN</td>\n",
       "      <td>NaN</td>\n",
       "      <td>6.000000</td>\n",
       "      <td>NaN</td>\n",
       "      <td>NaN</td>\n",
       "      <td>NaN</td>\n",
       "      <td>NaN</td>\n",
       "      <td>0.0</td>\n",
       "      <td>49577.000000</td>\n",
       "      <td>NaN</td>\n",
       "    </tr>\n",
       "    <tr>\n",
       "      <th>75%</th>\n",
       "      <td>NaN</td>\n",
       "      <td>NaN</td>\n",
       "      <td>NaN</td>\n",
       "      <td>NaN</td>\n",
       "      <td>NaN</td>\n",
       "      <td>NaN</td>\n",
       "      <td>NaN</td>\n",
       "      <td>2008.000000</td>\n",
       "      <td>NaN</td>\n",
       "      <td>150.000000</td>\n",
       "      <td>NaN</td>\n",
       "      <td>NaN</td>\n",
       "      <td>9.000000</td>\n",
       "      <td>NaN</td>\n",
       "      <td>NaN</td>\n",
       "      <td>NaN</td>\n",
       "      <td>NaN</td>\n",
       "      <td>0.0</td>\n",
       "      <td>71540.000000</td>\n",
       "      <td>NaN</td>\n",
       "    </tr>\n",
       "    <tr>\n",
       "      <th>max</th>\n",
       "      <td>NaN</td>\n",
       "      <td>NaN</td>\n",
       "      <td>NaN</td>\n",
       "      <td>NaN</td>\n",
       "      <td>NaN</td>\n",
       "      <td>NaN</td>\n",
       "      <td>NaN</td>\n",
       "      <td>9999.000000</td>\n",
       "      <td>NaN</td>\n",
       "      <td>17700.000000</td>\n",
       "      <td>NaN</td>\n",
       "      <td>NaN</td>\n",
       "      <td>12.000000</td>\n",
       "      <td>NaN</td>\n",
       "      <td>NaN</td>\n",
       "      <td>NaN</td>\n",
       "      <td>NaN</td>\n",
       "      <td>0.0</td>\n",
       "      <td>99998.000000</td>\n",
       "      <td>NaN</td>\n",
       "    </tr>\n",
       "  </tbody>\n",
       "</table>\n",
       "</div>"
      ],
      "text/plain": [
       "               date_crawled         name  seller offer_type  price abtest  \\\n",
       "count                 50000        50000   50000      50000  50000  50000   \n",
       "unique                48213        38754       2          2   2357      2   \n",
       "top     2016-03-23 19:38:20  Ford_Fiesta  privat    Angebot     $0   test   \n",
       "freq                      3           78   49999      49999   1421  25756   \n",
       "mean                    NaN          NaN     NaN        NaN    NaN    NaN   \n",
       "std                     NaN          NaN     NaN        NaN    NaN    NaN   \n",
       "min                     NaN          NaN     NaN        NaN    NaN    NaN   \n",
       "25%                     NaN          NaN     NaN        NaN    NaN    NaN   \n",
       "50%                     NaN          NaN     NaN        NaN    NaN    NaN   \n",
       "75%                     NaN          NaN     NaN        NaN    NaN    NaN   \n",
       "max                     NaN          NaN     NaN        NaN    NaN    NaN   \n",
       "\n",
       "       vehicle_type  registration_year  gearbox      power_ps  model  \\\n",
       "count         44905       50000.000000    47320  50000.000000  47242   \n",
       "unique            8                NaN        2           NaN    245   \n",
       "top       limousine                NaN  manuell           NaN   golf   \n",
       "freq          12859                NaN    36993           NaN   4024   \n",
       "mean            NaN        2005.073280      NaN    116.355920    NaN   \n",
       "std             NaN         105.712813      NaN    209.216627    NaN   \n",
       "min             NaN        1000.000000      NaN      0.000000    NaN   \n",
       "25%             NaN        1999.000000      NaN     70.000000    NaN   \n",
       "50%             NaN        2003.000000      NaN    105.000000    NaN   \n",
       "75%             NaN        2008.000000      NaN    150.000000    NaN   \n",
       "max             NaN        9999.000000      NaN  17700.000000    NaN   \n",
       "\n",
       "         odometer  registration_month fuel_type       brand unrepaired_damage  \\\n",
       "count       50000        50000.000000     45518       50000             40171   \n",
       "unique         13                 NaN         7          40                 2   \n",
       "top     150,000km                 NaN    benzin  volkswagen              nein   \n",
       "freq        32424                 NaN     30107       10687             35232   \n",
       "mean          NaN            5.723360       NaN         NaN               NaN   \n",
       "std           NaN            3.711984       NaN         NaN               NaN   \n",
       "min           NaN            0.000000       NaN         NaN               NaN   \n",
       "25%           NaN            3.000000       NaN         NaN               NaN   \n",
       "50%           NaN            6.000000       NaN         NaN               NaN   \n",
       "75%           NaN            9.000000       NaN         NaN               NaN   \n",
       "max           NaN           12.000000       NaN         NaN               NaN   \n",
       "\n",
       "                 ad_created  nr_of_pictures   postal_code            last_seen  \n",
       "count                 50000         50000.0  50000.000000                50000  \n",
       "unique                   76             NaN           NaN                39481  \n",
       "top     2016-04-03 00:00:00             NaN           NaN  2016-04-07 06:17:27  \n",
       "freq                   1946             NaN           NaN                    8  \n",
       "mean                    NaN             0.0  50813.627300                  NaN  \n",
       "std                     NaN             0.0  25779.747957                  NaN  \n",
       "min                     NaN             0.0   1067.000000                  NaN  \n",
       "25%                     NaN             0.0  30451.000000                  NaN  \n",
       "50%                     NaN             0.0  49577.000000                  NaN  \n",
       "75%                     NaN             0.0  71540.000000                  NaN  \n",
       "max                     NaN             0.0  99998.000000                  NaN  "
      ]
     },
     "execution_count": 4,
     "metadata": {},
     "output_type": "execute_result"
    }
   ],
   "source": [
    "# We'll use the describe method to view some statistics for every column\n",
    "autos.describe(include='all')"
   ]
  },
  {
   "cell_type": "markdown",
   "metadata": {},
   "source": [
    "I notice that:\n",
    "\n",
    "* The seller and offer_type columns contain nearly all of the same value. These columns contains no useful information, and can be removed.\n",
    "* The nr_of_pictures column seem to only contain values of 0, so we'll wanna look into that.\n",
    "* odometer and price contain numeric data as an object dtype. These columns will be easier to analyze as a numeric dtype.\n",
    "\n",
    "## Data Cleaning: Columns\n",
    "\n",
    "To begin, let's take a look at the nr_of_pictures column. This column may be a candidate for removal if it contains no useful information."
   ]
  },
  {
   "cell_type": "code",
   "execution_count": 5,
   "metadata": {},
   "outputs": [
    {
     "data": {
      "text/plain": [
       "0    50000\n",
       "Name: nr_of_pictures, dtype: int64"
      ]
     },
     "execution_count": 5,
     "metadata": {},
     "output_type": "execute_result"
    }
   ],
   "source": [
    "# We'll count the number of times 0 is in this column\n",
    "autos['nr_of_pictures'].value_counts()"
   ]
  },
  {
   "cell_type": "markdown",
   "metadata": {},
   "source": [
    "Every row contains 0. This is useless to our analysis, so we'll remove this column along with seller and offer_type."
   ]
  },
  {
   "cell_type": "code",
   "execution_count": 6,
   "metadata": {},
   "outputs": [
    {
     "name": "stdout",
     "output_type": "stream",
     "text": [
      "Index(['date_crawled', 'name', 'price', 'abtest', 'vehicle_type',\n",
      "       'registration_year', 'gearbox', 'power_ps', 'model', 'odometer',\n",
      "       'registration_month', 'fuel_type', 'brand', 'unrepaired_damage',\n",
      "       'ad_created', 'postal_code', 'last_seen'],\n",
      "      dtype='object')\n"
     ]
    }
   ],
   "source": [
    "autos = autos.drop(['seller', 'offer_type', 'nr_of_pictures'], axis=1)\n",
    "print(autos.columns)"
   ]
  },
  {
   "cell_type": "markdown",
   "metadata": {},
   "source": [
    "Next let's convert the price and odometer columns to a numeric datatype. To do this we'll first have to remove the string characters."
   ]
  },
  {
   "cell_type": "code",
   "execution_count": 7,
   "metadata": {},
   "outputs": [
    {
     "name": "stdout",
     "output_type": "stream",
     "text": [
      "0    5000\n",
      "1    8500\n",
      "2    8990\n",
      "3    4350\n",
      "4    1350\n",
      "Name: price, dtype: int64\n",
      "0    150000\n",
      "1    150000\n",
      "2     70000\n",
      "3     70000\n",
      "4    150000\n",
      "Name: odometer, dtype: int64\n"
     ]
    }
   ],
   "source": [
    "# We'll use the vectorized string replace method to remove the non-numeric values from both columns\n",
    "autos[\"price\"] = autos[\"price\"].str.replace(\"$\", \"\")\n",
    "autos[\"price\"] = autos[\"price\"].str.replace(\",\", \"\").astype(\"int64\")\n",
    "print(autos[\"price\"].head())\n",
    "\n",
    "autos[\"odometer\"] = autos[\"odometer\"].str.replace(\"km\", \"\")\n",
    "autos[\"odometer\"] = autos[\"odometer\"].str.replace(\",\", \"\").astype(\"int64\")\n",
    "print(autos[\"odometer\"].head())"
   ]
  },
  {
   "cell_type": "markdown",
   "metadata": {},
   "source": [
    "The odometer column should now be renamed to reflect the units used to measure the column, as this information is no longer obvious."
   ]
  },
  {
   "cell_type": "code",
   "execution_count": 8,
   "metadata": {},
   "outputs": [
    {
     "name": "stdout",
     "output_type": "stream",
     "text": [
      "Index(['date_crawled', 'name', 'price', 'abtest', 'vehicle_type',\n",
      "       'registration_year', 'gearbox', 'power_ps', 'model', 'odometer_km',\n",
      "       'registration_month', 'fuel_type', 'brand', 'unrepaired_damage',\n",
      "       'ad_created', 'postal_code', 'last_seen'],\n",
      "      dtype='object')\n"
     ]
    }
   ],
   "source": [
    "autos.rename({\"odometer\":\"odometer_km\"}, axis=1, inplace=True)\n",
    "print(autos.columns)"
   ]
  },
  {
   "cell_type": "markdown",
   "metadata": {},
   "source": [
    "## Data Cleaning: English\n",
    "\n",
    "To make our data more easily understandable for English readers, I'll convert all the German text to English for each column.\n",
    "\n",
    "### vehicle_type"
   ]
  },
  {
   "cell_type": "code",
   "execution_count": 9,
   "metadata": {},
   "outputs": [
    {
     "data": {
      "text/plain": [
       "limousine      12859\n",
       "subcompact     10822\n",
       "combi           9127\n",
       "bus             4093\n",
       "convertible     3061\n",
       "coupe           2537\n",
       "suv             1986\n",
       "other            420\n",
       "Name: vehicle_type, dtype: int64"
      ]
     },
     "execution_count": 9,
     "metadata": {},
     "output_type": "execute_result"
    }
   ],
   "source": [
    "autos.loc[autos[\"vehicle_type\"] == 'andere', 'vehicle_type'] = \"other\"\n",
    "autos.loc[autos[\"vehicle_type\"] == 'kleinwagen', 'vehicle_type'] = \"subcompact\"\n",
    "autos.loc[autos[\"vehicle_type\"] == 'cabrio', 'vehicle_type'] = \"convertible\"\n",
    "autos.loc[autos[\"vehicle_type\"] == 'kombi', 'vehicle_type'] = \"combi\"\n",
    "\n",
    "autos['vehicle_type'].value_counts()"
   ]
  },
  {
   "cell_type": "markdown",
   "metadata": {},
   "source": [
    "### gearbox"
   ]
  },
  {
   "cell_type": "code",
   "execution_count": 10,
   "metadata": {},
   "outputs": [
    {
     "data": {
      "text/plain": [
       "manual       36993\n",
       "automatic    10327\n",
       "Name: gearbox, dtype: int64"
      ]
     },
     "execution_count": 10,
     "metadata": {},
     "output_type": "execute_result"
    }
   ],
   "source": [
    "autos.loc[autos[\"gearbox\"] == 'manuell', 'gearbox'] = \"manual\"\n",
    "autos.loc[autos[\"gearbox\"] == 'automatik', 'gearbox'] = \"automatic\"\n",
    "\n",
    "autos['gearbox'].value_counts()"
   ]
  },
  {
   "cell_type": "markdown",
   "metadata": {},
   "source": [
    "### model"
   ]
  },
  {
   "cell_type": "code",
   "execution_count": 11,
   "metadata": {},
   "outputs": [],
   "source": [
    "autos.loc[autos[\"model\"] == 'andere', 'model'] = \"other\""
   ]
  },
  {
   "cell_type": "markdown",
   "metadata": {},
   "source": [
    "### fuel_type"
   ]
  },
  {
   "cell_type": "code",
   "execution_count": 12,
   "metadata": {},
   "outputs": [
    {
     "data": {
      "text/plain": [
       "petrol      30107\n",
       "diesel      14567\n",
       "lpg           691\n",
       "cng            75\n",
       "hybrid         37\n",
       "other          22\n",
       "electric       19\n",
       "Name: fuel_type, dtype: int64"
      ]
     },
     "execution_count": 12,
     "metadata": {},
     "output_type": "execute_result"
    }
   ],
   "source": [
    "autos.loc[autos[\"fuel_type\"] == 'benzin', 'fuel_type'] = \"petrol\"\n",
    "autos.loc[autos[\"fuel_type\"] == 'andere', 'fuel_type'] = \"other\"\n",
    "autos.loc[autos[\"fuel_type\"] == 'elektro', 'fuel_type'] = \"electric\"\n",
    "\n",
    "autos['fuel_type'].value_counts()"
   ]
  },
  {
   "cell_type": "markdown",
   "metadata": {},
   "source": [
    "### unrepaired_damage"
   ]
  },
  {
   "cell_type": "code",
   "execution_count": 13,
   "metadata": {},
   "outputs": [
    {
     "data": {
      "text/plain": [
       "no     35232\n",
       "yes     4939\n",
       "Name: unrepaired_damage, dtype: int64"
      ]
     },
     "execution_count": 13,
     "metadata": {},
     "output_type": "execute_result"
    }
   ],
   "source": [
    "autos.loc[autos[\"unrepaired_damage\"] == 'nein', 'unrepaired_damage'] = \"no\"\n",
    "autos.loc[autos[\"unrepaired_damage\"] == 'ja', 'unrepaired_damage'] = \"yes\"\n",
    "\n",
    "autos['unrepaired_damage'].value_counts()"
   ]
  },
  {
   "cell_type": "markdown",
   "metadata": {},
   "source": [
    "## Data Cleaning: Outliers\n",
    "\n",
    "### Price\n",
    "\n",
    "Let's take a look at the price column for any possible outliers. In our overview above, we noticed that there were 1,400 rows with a value of 0. This seems strange for a car sale, but may just be a common price to start auctions on."
   ]
  },
  {
   "cell_type": "code",
   "execution_count": 14,
   "metadata": {},
   "outputs": [
    {
     "name": "stdout",
     "output_type": "stream",
     "text": [
      "Number of unique values:\n",
      "(2357,)\n",
      "\n",
      "Price statistics:\n",
      "count    5.000000e+04\n",
      "mean     9.840044e+03\n",
      "std      4.811044e+05\n",
      "min      0.000000e+00\n",
      "5%       2.000000e+02\n",
      "25%      1.100000e+03\n",
      "50%      2.950000e+03\n",
      "75%      7.200000e+03\n",
      "99%      3.590000e+04\n",
      "max      1.000000e+08\n",
      "Name: price, dtype: float64\n",
      "\n",
      "Five Lowest Prices:\n",
      "0    1421\n",
      "1     156\n",
      "2       3\n",
      "3       1\n",
      "5       2\n",
      "Name: price, dtype: int64\n",
      "\n",
      "Five Highest Prices:\n",
      "99999999    1\n",
      "27322222    1\n",
      "12345678    3\n",
      "11111111    2\n",
      "10000000    1\n",
      "Name: price, dtype: int64\n",
      "\n"
     ]
    }
   ],
   "source": [
    "# To begin, we'll count the number of unique values\n",
    "print(\"Number of unique values:\" \"\\n\", \n",
    "      autos[\"price\"].unique().shape\n",
    "      ,\"\\n\", sep=\"\")\n",
    "\n",
    "# View the series statistics\n",
    "print(\"Price statistics:\" \"\\n\", \n",
    "      autos[\"price\"].describe(percentiles=[.05, .25, .50, .75, .99])\n",
    "     ,\"\\n\", sep=\"\")\n",
    "\n",
    "# And view the outliers\n",
    "print(\"Five Lowest Prices:\" \"\\n\",\n",
    "      autos[\"price\"].value_counts().sort_index(ascending=True).head()\n",
    "      ,\"\\n\", sep=\"\")\n",
    "print(\"Five Highest Prices:\" \"\\n\",\n",
    "      autos[\"price\"].value_counts().sort_index(ascending=False).head()\n",
    "      ,\"\\n\", sep=\"\")"
   ]
  },
  {
   "cell_type": "markdown",
   "metadata": {},
   "source": [
    "With our results, we can see that the highest prices cost over 10 million dollars. This seems rather unrealistic for an eBay car sale, and are unlikely to be actual sales.\n",
    "\n",
    "Since 99% of the listing prices are under 36,000, we'll only include listing that are under 50,000 to remove the unlikely outliers. We'll keep the listings of 0$, as they may just be a popular auction starting price."
   ]
  },
  {
   "cell_type": "code",
   "execution_count": 15,
   "metadata": {},
   "outputs": [
    {
     "name": "stdout",
     "output_type": "stream",
     "text": [
      "count    49800.000000\n",
      "mean      5413.582892\n",
      "std       6684.176349\n",
      "min          0.000000\n",
      "25%       1100.000000\n",
      "50%       2900.000000\n",
      "75%       7000.000000\n",
      "max      50000.000000\n",
      "Name: price, dtype: float64\n"
     ]
    }
   ],
   "source": [
    "# We'll remove the rows with a price over 50000 by using boolean indexing\n",
    "autos = autos[autos['price'] <= 50000]\n",
    "\n",
    "print(autos[\"price\"].describe())"
   ]
  },
  {
   "cell_type": "markdown",
   "metadata": {},
   "source": [
    "We removed 200 outliers that were over 50000. Now our data will be much more accurate. With our new data, we can see that the average cost is about 5400.\n",
    "\n",
    "### Odometer\n",
    "\n",
    "Let's also take a quick look at the odometer_km column, which only contains 13 unique values. "
   ]
  },
  {
   "cell_type": "code",
   "execution_count": 16,
   "metadata": {},
   "outputs": [
    {
     "name": "stdout",
     "output_type": "stream",
     "text": [
      "5000        944\n",
      "10000       251\n",
      "20000       755\n",
      "30000       765\n",
      "40000       800\n",
      "50000      1014\n",
      "60000      1148\n",
      "70000      1224\n",
      "80000      1434\n",
      "90000      1750\n",
      "100000     2158\n",
      "125000     5158\n",
      "150000    32399\n",
      "Name: odometer_km, dtype: int64\n"
     ]
    }
   ],
   "source": [
    "# Since there are only 13 unique values, let's just view the number of listings for each value\n",
    "print(autos[\"odometer_km\"].value_counts().sort_index(ascending=True))"
   ]
  },
  {
   "cell_type": "markdown",
   "metadata": {},
   "source": [
    "It appears that the listings are rounded into these unique values, and the exact milage is not posted. With this, we can see that more than half of the listings contain vehicles with over 150,000km. \n",
    "\n",
    "## Analysis: Dates\n",
    "\n",
    "This dataset contains five columns that contain dates.\n",
    "* date_crawled\n",
    "* last_seen\n",
    "* ad_created\n",
    "* registration_month\n",
    "* registration_year\n",
    "\n",
    "Three of these columns are represented as strings, which contain the date and time. This values can easily be distributed by only including the date portion and sorting the values by the index. This will allow us to get an understanding of the range of dates in each column.\n",
    "\n",
    "We'll first take a look at the date_crawled column, which includes the date the ad was collected by the crawler."
   ]
  },
  {
   "cell_type": "code",
   "execution_count": 17,
   "metadata": {},
   "outputs": [
    {
     "name": "stdout",
     "output_type": "stream",
     "text": [
      "2016-04-03    0.038675\n",
      "2016-03-20    0.037892\n",
      "2016-03-21    0.037450\n",
      "2016-03-12    0.036827\n",
      "2016-03-14    0.036687\n",
      "2016-04-04    0.036486\n",
      "2016-03-07    0.035964\n",
      "2016-04-02    0.035361\n",
      "2016-03-19    0.034920\n",
      "2016-03-28    0.034839\n",
      "2016-03-29    0.034177\n",
      "2016-03-15    0.033996\n",
      "2016-04-01    0.033775\n",
      "2016-03-30    0.033675\n",
      "2016-03-08    0.033273\n",
      "2016-03-09    0.033233\n",
      "2016-03-22    0.032871\n",
      "2016-03-26    0.032510\n",
      "2016-03-11    0.032450\n",
      "2016-03-23    0.032329\n",
      "2016-03-10    0.032229\n",
      "2016-03-31    0.031888\n",
      "2016-03-25    0.031727\n",
      "2016-03-17    0.031506\n",
      "2016-03-27    0.030984\n",
      "2016-03-16    0.029498\n",
      "2016-03-24    0.029116\n",
      "2016-03-05    0.025402\n",
      "2016-03-13    0.015602\n",
      "2016-03-06    0.013976\n",
      "2016-03-18    0.013052\n",
      "2016-04-05    0.013012\n",
      "2016-04-06    0.003193\n",
      "2016-04-07    0.001426\n",
      "Name: date_crawled, dtype: float64\n"
     ]
    }
   ],
   "source": [
    "# We'll view the distribution of every unique date as a percentage by including the `normalize=True` parameter\n",
    "print(autos['date_crawled'].str[:10].value_counts(normalize=True, dropna=False))"
   ]
  },
  {
   "cell_type": "markdown",
   "metadata": {},
   "source": [
    "It appears that the crawler collected data every day for a little over a month. Most days seem to have a similar amount of data collected, aside from the last two days in particular. These are the last two days the crawler ran, and it may have just had less new data available to collect.\n",
    "\n",
    "Let's take a look at the last_seen column now, which is when the ad was last seen by the crawler."
   ]
  },
  {
   "cell_type": "code",
   "execution_count": 18,
   "metadata": {},
   "outputs": [
    {
     "name": "stdout",
     "output_type": "stream",
     "text": [
      "2016-03-05    0.001084\n",
      "2016-03-06    0.004438\n",
      "2016-03-07    0.005341\n",
      "2016-03-08    0.007610\n",
      "2016-03-09    0.009839\n",
      "2016-03-10    0.010803\n",
      "2016-03-11    0.012570\n",
      "2016-03-12    0.023835\n",
      "2016-03-13    0.009016\n",
      "2016-03-14    0.012831\n",
      "2016-03-15    0.015904\n",
      "2016-03-16    0.016426\n",
      "2016-03-17    0.028032\n",
      "2016-03-18    0.007410\n",
      "2016-03-19    0.015783\n",
      "2016-03-20    0.020683\n",
      "2016-03-21    0.020783\n",
      "2016-03-22    0.021627\n",
      "2016-03-23    0.018594\n",
      "2016-03-24    0.019558\n",
      "2016-03-25    0.019237\n",
      "2016-03-26    0.016968\n",
      "2016-03-27    0.016024\n",
      "2016-03-28    0.020884\n",
      "2016-03-29    0.022410\n",
      "2016-03-30    0.024880\n",
      "2016-03-31    0.023835\n",
      "2016-04-01    0.023173\n",
      "2016-04-02    0.024940\n",
      "2016-04-03    0.025382\n",
      "2016-04-04    0.024719\n",
      "2016-04-05    0.123876\n",
      "2016-04-06    0.220823\n",
      "2016-04-07    0.130683\n",
      "Name: last_seen, dtype: float64\n"
     ]
    }
   ],
   "source": [
    "# We'll sort this column by the dates\n",
    "print(autos['last_seen'].str[:10].value_counts(normalize=True, dropna=False).sort_index(ascending=True))"
   ]
  },
  {
   "cell_type": "markdown",
   "metadata": {},
   "source": [
    "We can see that with this column, the least number of ads last seen by the crawler were the first few dates the crawler ran. This column appears to indicate when a sale was completed. This makes sense, as the longer the crawler ran and the more ads it collected as time went on the greater the number of ads being removed would be.\n",
    "\n",
    "The ad_created column contains the dates every ad was put up onto the website, and will likely contain many unique dates. Rather than viewing all the unique values down to the day, let's view them down to the month."
   ]
  },
  {
   "cell_type": "code",
   "execution_count": 19,
   "metadata": {},
   "outputs": [
    {
     "name": "stdout",
     "output_type": "stream",
     "text": [
      "2015-06    0.000020\n",
      "2015-08    0.000020\n",
      "2015-09    0.000020\n",
      "2015-11    0.000020\n",
      "2015-12    0.000040\n",
      "2016-01    0.000241\n",
      "2016-02    0.001265\n",
      "2016-03    0.837490\n",
      "2016-04    0.160884\n",
      "Name: ad_created, dtype: float64\n"
     ]
    }
   ],
   "source": [
    "print(autos['ad_created'].str[:7].value_counts(normalize=True, dropna=False).sort_index(ascending=True))"
   ]
  },
  {
   "cell_type": "markdown",
   "metadata": {},
   "source": [
    "We can see that there still appears to be a few ads that are nearly a year old. There are very few of them, however, and are likely very bad deals or fake ads. Aside from these, 99% of all the ads were created the same months that our crawler ran. With less than 1% of ads still up from February, this indicates that most of the vehicles put up are either sold or removed within a month of being posted.\n",
    "\n",
    "Finally, let's take a look at the registration_year column. Since this column is represented as a numeric dtype, we can simply use the Series.describe() method to view the range of our ads year of registration."
   ]
  },
  {
   "cell_type": "code",
   "execution_count": 20,
   "metadata": {},
   "outputs": [
    {
     "data": {
      "text/plain": [
       "count    49800.000000\n",
       "mean      2005.074398\n",
       "std        105.920807\n",
       "min       1000.000000\n",
       "25%       1999.000000\n",
       "50%       2003.000000\n",
       "75%       2008.000000\n",
       "max       9999.000000\n",
       "Name: registration_year, dtype: float64"
      ]
     },
     "execution_count": 20,
     "metadata": {},
     "output_type": "execute_result"
    }
   ],
   "source": [
    "autos['registration_year'].describe()"
   ]
  },
  {
   "cell_type": "markdown",
   "metadata": {},
   "source": [
    "This doesn't seem right. The minimum and maximum value in this column are 1000 and 9999. Both of these are impossible years for a vehicle to be registered. It's only possible that there could be ads with cars as old as the 1900s. Lets see how many listings are older than that."
   ]
  },
  {
   "cell_type": "code",
   "execution_count": 21,
   "metadata": {},
   "outputs": [
    {
     "data": {
      "text/plain": [
       "10556    1800\n",
       "22316    1000\n",
       "24511    1111\n",
       "32585    1800\n",
       "35238    1500\n",
       "49283    1001\n",
       "Name: registration_year, dtype: int64"
      ]
     },
     "execution_count": 21,
     "metadata": {},
     "output_type": "execute_result"
    }
   ],
   "source": [
    "autos.loc[autos['registration_year'] <= 1900, 'registration_year']"
   ]
  },
  {
   "cell_type": "markdown",
   "metadata": {},
   "source": [
    "There are only six rows with a value older than 1900, and they are all years before cars were invented. These rows can be removed to improve the accuracy of our data.\n",
    "\n",
    "## Data Cleaning: Registration Year\n",
    "\n",
    "Let's remove all rows with values under 1900 and over 2016, as anything outside of these values are impossible."
   ]
  },
  {
   "cell_type": "code",
   "execution_count": 22,
   "metadata": {},
   "outputs": [
    {
     "name": "stdout",
     "output_type": "stream",
     "text": [
      "2000    0.070079\n",
      "2005    0.063012\n",
      "1999    0.062657\n",
      "2004    0.057158\n",
      "2003    0.056991\n",
      "2006    0.056573\n",
      "2001    0.056468\n",
      "2002    0.052935\n",
      "1998    0.051200\n",
      "2007    0.048022\n",
      "2008    0.046412\n",
      "2009    0.043736\n",
      "1997    0.042336\n",
      "2011    0.033994\n",
      "2010    0.033158\n",
      "1996    0.030147\n",
      "1995    0.027388\n",
      "2016    0.027346\n",
      "2012    0.027304\n",
      "2013    0.016412\n",
      "Name: registration_year, dtype: float64\n"
     ]
    }
   ],
   "source": [
    "autos = autos[autos['registration_year'].between(1900,2016)]\n",
    "\n",
    "print(autos['registration_year'].value_counts(normalize=True, dropna=False).head(20))"
   ]
  },
  {
   "cell_type": "markdown",
   "metadata": {},
   "source": [
    "We can see that newer cars 10-16 years old are the most commonly listed.\n",
    "\n",
    "## Analysis: Common Brands\n",
    "\n",
    "Let's find the average price and mileage of the top 10 most common brands in our dataset. We can do this with a simple aggregation loop. First, we'll find out what the most common brands are."
   ]
  },
  {
   "cell_type": "code",
   "execution_count": 23,
   "metadata": {},
   "outputs": [
    {
     "data": {
      "text/plain": [
       "volkswagen       10183\n",
       "bmw               5269\n",
       "opel              5194\n",
       "mercedes_benz     4549\n",
       "audi              4127\n",
       "ford              3344\n",
       "renault           2273\n",
       "peugeot           1418\n",
       "fiat              1242\n",
       "seat               873\n",
       "Name: brand, dtype: int64"
      ]
     },
     "execution_count": 23,
     "metadata": {},
     "output_type": "execute_result"
    }
   ],
   "source": [
    "autos['brand'].value_counts().head(10)"
   ]
  },
  {
   "cell_type": "markdown",
   "metadata": {},
   "source": [
    "### Mean Price"
   ]
  },
  {
   "cell_type": "code",
   "execution_count": 24,
   "metadata": {},
   "outputs": [
    {
     "data": {
      "text/plain": [
       "[('audi', 8788),\n",
       " ('mercedes_benz', 8054),\n",
       " ('bmw', 7870),\n",
       " ('volkswagen', 5219),\n",
       " ('seat', 4296),\n",
       " ('ford', 3526),\n",
       " ('peugeot', 3039),\n",
       " ('opel', 2876),\n",
       " ('fiat', 2711),\n",
       " ('renault', 2355)]"
      ]
     },
     "execution_count": 24,
     "metadata": {},
     "output_type": "execute_result"
    }
   ],
   "source": [
    "# This will be the dictionary that will hold the brand name and mean price\n",
    "mean_price = {}\n",
    "\n",
    "# This will be the list of our top 10 brands to loop through\n",
    "brands = autos['brand'].value_counts().head(10).index\n",
    "\n",
    "for b in brands: \n",
    "    brand = autos.loc[autos['brand'] == b, 'price']\n",
    "    mean = brand.mean()\n",
    "    mean_price[b] = int(mean)\n",
    "    \n",
    "# We'll sort the dictionary values to make them easier to read    \n",
    "sorted(mean_price.items(), key=lambda x: x[1], reverse=True)"
   ]
  },
  {
   "cell_type": "markdown",
   "metadata": {},
   "source": [
    "As we can see here, the three most costly brands are Audi, Mercedes Benz, and BMW. The two middle placed brands are Volkswagen and Seat. The cheapest brands are Ford, Peugeot, Opel, Fiat, and Renault.\n",
    "\n",
    "The most popular brand, Volkswagen, has a mid tier cost. People seem to prefer vehicles that are in the middle of the price spectrum, and aren't super expensive or super cheap.\n",
    "\n",
    "### Mean Mileage\n"
   ]
  },
  {
   "cell_type": "code",
   "execution_count": 25,
   "metadata": {},
   "outputs": [
    {
     "data": {
      "text/plain": [
       "[('bmw', 132679),\n",
       " ('mercedes_benz', 131343),\n",
       " ('audi', 129806),\n",
       " ('opel', 129223),\n",
       " ('volkswagen', 128746),\n",
       " ('renault', 128227),\n",
       " ('peugeot', 127136),\n",
       " ('ford', 124197),\n",
       " ('seat', 121563),\n",
       " ('fiat', 116553)]"
      ]
     },
     "execution_count": 25,
     "metadata": {},
     "output_type": "execute_result"
    }
   ],
   "source": [
    "# This will be the dictionary that will hold the brand name and mean mileage\n",
    "mean_mileage = {}\n",
    "\n",
    "# This will be the list of our top 10 brands to loop through\n",
    "brands = autos['brand'].value_counts().head(10).index\n",
    "\n",
    "for b in brands: \n",
    "    brand = autos.loc[autos['brand'] == b, 'odometer_km']\n",
    "    mean = brand.mean()\n",
    "    mean_mileage[b] = int(mean)\n",
    "     \n",
    "sorted(mean_mileage.items(), key=lambda x: x[1], reverse=True)"
   ]
  },
  {
   "cell_type": "markdown",
   "metadata": {},
   "source": [
    "With both of our dictionaries seperated like this, it makes them a little difficult to compare. We can improve this by making them into a new DataFrame."
   ]
  },
  {
   "cell_type": "code",
   "execution_count": 26,
   "metadata": {},
   "outputs": [
    {
     "data": {
      "text/html": [
       "<div>\n",
       "<style scoped>\n",
       "    .dataframe tbody tr th:only-of-type {\n",
       "        vertical-align: middle;\n",
       "    }\n",
       "\n",
       "    .dataframe tbody tr th {\n",
       "        vertical-align: top;\n",
       "    }\n",
       "\n",
       "    .dataframe thead th {\n",
       "        text-align: right;\n",
       "    }\n",
       "</style>\n",
       "<table border=\"1\" class=\"dataframe\">\n",
       "  <thead>\n",
       "    <tr style=\"text-align: right;\">\n",
       "      <th></th>\n",
       "      <th>mean_price</th>\n",
       "      <th>mean_mileage</th>\n",
       "    </tr>\n",
       "  </thead>\n",
       "  <tbody>\n",
       "    <tr>\n",
       "      <th>bmw</th>\n",
       "      <td>7870</td>\n",
       "      <td>132679</td>\n",
       "    </tr>\n",
       "    <tr>\n",
       "      <th>mercedes_benz</th>\n",
       "      <td>8054</td>\n",
       "      <td>131343</td>\n",
       "    </tr>\n",
       "    <tr>\n",
       "      <th>audi</th>\n",
       "      <td>8788</td>\n",
       "      <td>129806</td>\n",
       "    </tr>\n",
       "    <tr>\n",
       "      <th>opel</th>\n",
       "      <td>2876</td>\n",
       "      <td>129223</td>\n",
       "    </tr>\n",
       "    <tr>\n",
       "      <th>volkswagen</th>\n",
       "      <td>5219</td>\n",
       "      <td>128746</td>\n",
       "    </tr>\n",
       "    <tr>\n",
       "      <th>renault</th>\n",
       "      <td>2355</td>\n",
       "      <td>128227</td>\n",
       "    </tr>\n",
       "    <tr>\n",
       "      <th>peugeot</th>\n",
       "      <td>3039</td>\n",
       "      <td>127136</td>\n",
       "    </tr>\n",
       "    <tr>\n",
       "      <th>ford</th>\n",
       "      <td>3526</td>\n",
       "      <td>124197</td>\n",
       "    </tr>\n",
       "    <tr>\n",
       "      <th>seat</th>\n",
       "      <td>4296</td>\n",
       "      <td>121563</td>\n",
       "    </tr>\n",
       "    <tr>\n",
       "      <th>fiat</th>\n",
       "      <td>2711</td>\n",
       "      <td>116553</td>\n",
       "    </tr>\n",
       "  </tbody>\n",
       "</table>\n",
       "</div>"
      ],
      "text/plain": [
       "               mean_price  mean_mileage\n",
       "bmw                  7870        132679\n",
       "mercedes_benz        8054        131343\n",
       "audi                 8788        129806\n",
       "opel                 2876        129223\n",
       "volkswagen           5219        128746\n",
       "renault              2355        128227\n",
       "peugeot              3039        127136\n",
       "ford                 3526        124197\n",
       "seat                 4296        121563\n",
       "fiat                 2711        116553"
      ]
     },
     "execution_count": 26,
     "metadata": {},
     "output_type": "execute_result"
    }
   ],
   "source": [
    "# We'll first make each dictionary a Series by using pandas series constructor\n",
    "price_series = pd.Series(mean_price)\n",
    "mileage_series = pd.Series(mean_mileage)\n",
    "\n",
    "# Then we'll construct price_series into a DataFrame and add the mileage_series on as a column\n",
    "common_brands = pd.DataFrame(price_series, columns=['mean_price'])\n",
    "common_brands['mean_mileage'] = mileage_series\n",
    "\n",
    "common_brands.sort_values('mean_mileage', ascending=False)"
   ]
  },
  {
   "cell_type": "markdown",
   "metadata": {},
   "source": [
    "With our new dataframe, we can easily see the relationship between the mean_price and mean_mileage for our top 10 brands. It appears that the more expensive brands tend to have more mileage, while the cheaper brands have less mileage.\n",
    "\n",
    "## Analysis: Brand/Model Combination\n",
    "\n",
    "We'll find the most popular models for the top 10 most popular brands as well. This can be easily done by aggregating through the popular brands with the `df.groupby()` method and finding the number of results in each group."
   ]
  },
  {
   "cell_type": "code",
   "execution_count": 27,
   "metadata": {},
   "outputs": [
    {
     "data": {
      "text/plain": [
       "{'volkswagen': 'golf',\n",
       " 'bmw': '3er',\n",
       " 'opel': 'corsa',\n",
       " 'mercedes_benz': 'c_klasse',\n",
       " 'audi': 'a4',\n",
       " 'ford': 'focus',\n",
       " 'renault': 'twingo',\n",
       " 'peugeot': '2_reihe',\n",
       " 'fiat': 'punto',\n",
       " 'seat': 'ibiza'}"
      ]
     },
     "execution_count": 27,
     "metadata": {},
     "output_type": "execute_result"
    }
   ],
   "source": [
    "# Create a dictionary that will contain our results\n",
    "brand_model = {}\n",
    "\n",
    "for b in brands:\n",
    "    # We'll want to create a new df for each brand\n",
    "    new = autos[autos['brand'] == b]\n",
    "    # Then find the most popular brand/model combination for that current aggregated brand\n",
    "    new_series = new.groupby(['brand','model']).size().sort_values(ascending=False).head(1)\n",
    "    # And finally, add the results to our dictionary\n",
    "    brand_model[b] = new_series.loc[b].index[0]\n",
    "\n",
    "brand_model"
   ]
  },
  {
   "cell_type": "markdown",
   "metadata": {},
   "source": [
    "These are the most popular brand/model combinations for our most popular brands. We can see that for our most popular brand, Volkswagen, the Volkswagen Golf is the most popular listed model.\n",
    "\n",
    "## Analysis: Mileage Average Price\n",
    "\n",
    "Does the mileage affect the average price? We can find this out by performing another simple aggregation. As we previously seen, there are only 13 unique values for the odometer_km column. This will make this process as simple as spliting each value into a group and finding the average price for each group."
   ]
  },
  {
   "cell_type": "code",
   "execution_count": 28,
   "metadata": {},
   "outputs": [
    {
     "data": {
      "text/html": [
       "<div>\n",
       "<style scoped>\n",
       "    .dataframe tbody tr th:only-of-type {\n",
       "        vertical-align: middle;\n",
       "    }\n",
       "\n",
       "    .dataframe tbody tr th {\n",
       "        vertical-align: top;\n",
       "    }\n",
       "\n",
       "    .dataframe thead th {\n",
       "        text-align: right;\n",
       "    }\n",
       "</style>\n",
       "<table border=\"1\" class=\"dataframe\">\n",
       "  <thead>\n",
       "    <tr style=\"text-align: right;\">\n",
       "      <th></th>\n",
       "      <th>price</th>\n",
       "    </tr>\n",
       "    <tr>\n",
       "      <th>km</th>\n",
       "      <th></th>\n",
       "    </tr>\n",
       "  </thead>\n",
       "  <tbody>\n",
       "    <tr>\n",
       "      <th>150000</th>\n",
       "      <td>3614</td>\n",
       "    </tr>\n",
       "    <tr>\n",
       "      <th>5000</th>\n",
       "      <td>4683</td>\n",
       "    </tr>\n",
       "    <tr>\n",
       "      <th>125000</th>\n",
       "      <td>5930</td>\n",
       "    </tr>\n",
       "    <tr>\n",
       "      <th>100000</th>\n",
       "      <td>7545</td>\n",
       "    </tr>\n",
       "    <tr>\n",
       "      <th>90000</th>\n",
       "      <td>8114</td>\n",
       "    </tr>\n",
       "    <tr>\n",
       "      <th>80000</th>\n",
       "      <td>9442</td>\n",
       "    </tr>\n",
       "    <tr>\n",
       "      <th>70000</th>\n",
       "      <td>10583</td>\n",
       "    </tr>\n",
       "    <tr>\n",
       "      <th>60000</th>\n",
       "      <td>11286</td>\n",
       "    </tr>\n",
       "    <tr>\n",
       "      <th>50000</th>\n",
       "      <td>12855</td>\n",
       "    </tr>\n",
       "    <tr>\n",
       "      <th>40000</th>\n",
       "      <td>14086</td>\n",
       "    </tr>\n",
       "    <tr>\n",
       "      <th>30000</th>\n",
       "      <td>14354</td>\n",
       "    </tr>\n",
       "    <tr>\n",
       "      <th>20000</th>\n",
       "      <td>14760</td>\n",
       "    </tr>\n",
       "    <tr>\n",
       "      <th>10000</th>\n",
       "      <td>16384</td>\n",
       "    </tr>\n",
       "  </tbody>\n",
       "</table>\n",
       "</div>"
      ],
      "text/plain": [
       "        price\n",
       "km           \n",
       "150000   3614\n",
       "5000     4683\n",
       "125000   5930\n",
       "100000   7545\n",
       "90000    8114\n",
       "80000    9442\n",
       "70000   10583\n",
       "60000   11286\n",
       "50000   12855\n",
       "40000   14086\n",
       "30000   14354\n",
       "20000   14760\n",
       "10000   16384"
      ]
     },
     "execution_count": 28,
     "metadata": {},
     "output_type": "execute_result"
    }
   ],
   "source": [
    "# We'll create a new list with each unique mileage value\n",
    "mileage_groups = autos['odometer_km'].value_counts().index\n",
    "\n",
    "mileage_avg_price = {}\n",
    "\n",
    "for m in mileage_groups:\n",
    "    # Create a new df for each group using bool indexing\n",
    "    new = autos[autos['odometer_km'] == m]\n",
    "    # Find the mean for each unique group\n",
    "    avg = new['price'].mean()\n",
    "    # Apply our results to a dictionary\n",
    "    mileage_avg_price[m] = int(avg)\n",
    "\n",
    "# We'll convert the dictionary into a dataframe to increase readability\n",
    "mileage_price = pd.DataFrame.from_dict(mileage_avg_price, orient='index', columns=[\"price\"])\n",
    "mileage_price.index.name = 'km'\n",
    "\n",
    "# And sort the df by price\n",
    "mileage_price.sort_values('price')"
   ]
  },
  {
   "cell_type": "markdown",
   "metadata": {},
   "source": [
    "Our results seem to pretty definitely tell us that the more mileage a car has, the cheaper the car will be. This makes sense, as the more worn a car is, the less it is worth. This is very close to a linear progression, aside from the 5000 mileage outlier.\n",
    "\n",
    "## Analysis: Damage/Price Comparison\n",
    "\n",
    "For our last analysis, let's find out how much cheaper car brands are when they have unrepaired damage. We'll again use our top 10 most common car brands for this analysis."
   ]
  },
  {
   "cell_type": "code",
   "execution_count": 29,
   "metadata": {},
   "outputs": [
    {
     "data": {
      "text/html": [
       "<div>\n",
       "<style scoped>\n",
       "    .dataframe tbody tr th:only-of-type {\n",
       "        vertical-align: middle;\n",
       "    }\n",
       "\n",
       "    .dataframe tbody tr th {\n",
       "        vertical-align: top;\n",
       "    }\n",
       "\n",
       "    .dataframe thead th {\n",
       "        text-align: right;\n",
       "    }\n",
       "</style>\n",
       "<table border=\"1\" class=\"dataframe\">\n",
       "  <thead>\n",
       "    <tr style=\"text-align: right;\">\n",
       "      <th></th>\n",
       "      <th>undamaged</th>\n",
       "      <th>damaged</th>\n",
       "    </tr>\n",
       "  </thead>\n",
       "  <tbody>\n",
       "    <tr>\n",
       "      <th>volkswagen</th>\n",
       "      <td>6358</td>\n",
       "      <td>2037</td>\n",
       "    </tr>\n",
       "    <tr>\n",
       "      <th>bmw</th>\n",
       "      <td>9079</td>\n",
       "      <td>3276</td>\n",
       "    </tr>\n",
       "    <tr>\n",
       "      <th>opel</th>\n",
       "      <td>3607</td>\n",
       "      <td>1298</td>\n",
       "    </tr>\n",
       "    <tr>\n",
       "      <th>mercedes_benz</th>\n",
       "      <td>9157</td>\n",
       "      <td>3865</td>\n",
       "    </tr>\n",
       "    <tr>\n",
       "      <th>audi</th>\n",
       "      <td>10385</td>\n",
       "      <td>3181</td>\n",
       "    </tr>\n",
       "    <tr>\n",
       "      <th>ford</th>\n",
       "      <td>4517</td>\n",
       "      <td>1312</td>\n",
       "    </tr>\n",
       "    <tr>\n",
       "      <th>renault</th>\n",
       "      <td>2990</td>\n",
       "      <td>1073</td>\n",
       "    </tr>\n",
       "    <tr>\n",
       "      <th>peugeot</th>\n",
       "      <td>3636</td>\n",
       "      <td>1309</td>\n",
       "    </tr>\n",
       "    <tr>\n",
       "      <th>fiat</th>\n",
       "      <td>3424</td>\n",
       "      <td>1068</td>\n",
       "    </tr>\n",
       "    <tr>\n",
       "      <th>seat</th>\n",
       "      <td>5118</td>\n",
       "      <td>1610</td>\n",
       "    </tr>\n",
       "  </tbody>\n",
       "</table>\n",
       "</div>"
      ],
      "text/plain": [
       "               undamaged  damaged\n",
       "volkswagen          6358     2037\n",
       "bmw                 9079     3276\n",
       "opel                3607     1298\n",
       "mercedes_benz       9157     3865\n",
       "audi               10385     3181\n",
       "ford                4517     1312\n",
       "renault             2990     1073\n",
       "peugeot             3636     1309\n",
       "fiat                3424     1068\n",
       "seat                5118     1610"
      ]
     },
     "execution_count": 29,
     "metadata": {},
     "output_type": "execute_result"
    }
   ],
   "source": [
    "# We'll need to create a dictionary to hold our values\n",
    "damaged_comp = {}\n",
    "\n",
    "# We already have a list variable with our top 10 brands, so we'll iterate on that\n",
    "for b in brands:\n",
    "    # Create two new dataframe to hold their respective information\n",
    "    undamaged = autos[(autos['brand'] == b) & (autos['unrepaired_damage'] == 'no')]\n",
    "    damaged = autos[(autos['brand'] == b) & (autos['unrepaired_damage'] == 'yes')]\n",
    "    \n",
    "    # Find the average price for each of our new dataframes\n",
    "    undamaged_price = undamaged['price'].mean()\n",
    "    damaged_price = damaged['price'].mean()\n",
    "    \n",
    "    # Each key in our dictionary will hold both values\n",
    "    damaged_comp[b] = [int(undamaged_price), int(damaged_price)]\n",
    "    \n",
    "# And to make our data more readable, we'll convert it into a dataframe    \n",
    "comp_df = pd.DataFrame.from_dict(damaged_comp, orient='index', columns=['undamaged', 'damaged'])\n",
    "\n",
    "comp_df"
   ]
  },
  {
   "cell_type": "markdown",
   "metadata": {},
   "source": [
    "From the information above, we can confidentally answer that cars with damage are usually around 3x as cheap as their undamaged counterparts."
   ]
  }
 ],
 "metadata": {
  "kernelspec": {
   "display_name": "Python 3",
   "language": "python",
   "name": "python3"
  },
  "language_info": {
   "codemirror_mode": {
    "name": "ipython",
    "version": 3
   },
   "file_extension": ".py",
   "mimetype": "text/x-python",
   "name": "python",
   "nbconvert_exporter": "python",
   "pygments_lexer": "ipython3",
   "version": "3.8.3"
  }
 },
 "nbformat": 4,
 "nbformat_minor": 4
}
